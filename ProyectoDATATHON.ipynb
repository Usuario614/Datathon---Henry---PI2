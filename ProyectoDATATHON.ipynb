{
 "cells": [
  {
   "attachments": {},
   "cell_type": "markdown",
   "metadata": {},
   "source": [
    "DATATHON - PROYECTO INDIVIDUAL II - /USUARIO614"
   ]
  },
  {
   "cell_type": "code",
   "execution_count": 51,
   "metadata": {},
   "outputs": [],
   "source": [
    "#Importación de librerias\n",
    "\n",
    "import pandas as pd\n",
    "import numpy as np"
   ]
  },
  {
   "cell_type": "code",
   "execution_count": 52,
   "metadata": {},
   "outputs": [],
   "source": [
    "#Leemos los archivos como dataframes\n",
    "\n",
    "df_test = pd.read_csv(r'C:\\Users\\jotad\\OneDrive\\Documentos\\Sebastian\\Datathon COVID\\Datathon\\hospitalizaciones_test.csv')\n",
    "df_train = pd.read_csv(r'C:\\Users\\jotad\\OneDrive\\Documentos\\Sebastian\\Datathon COVID\\Datathon\\hospitalizaciones_train.csv')"
   ]
  },
  {
   "cell_type": "code",
   "execution_count": 53,
   "metadata": {},
   "outputs": [
    {
     "data": {
      "text/html": [
       "<div>\n",
       "<style scoped>\n",
       "    .dataframe tbody tr th:only-of-type {\n",
       "        vertical-align: middle;\n",
       "    }\n",
       "\n",
       "    .dataframe tbody tr th {\n",
       "        vertical-align: top;\n",
       "    }\n",
       "\n",
       "    .dataframe thead th {\n",
       "        text-align: right;\n",
       "    }\n",
       "</style>\n",
       "<table border=\"1\" class=\"dataframe\">\n",
       "  <thead>\n",
       "    <tr style=\"text-align: right;\">\n",
       "      <th></th>\n",
       "      <th>Available Extra Rooms in Hospital</th>\n",
       "      <th>Department</th>\n",
       "      <th>Ward_Facility_Code</th>\n",
       "      <th>doctor_name</th>\n",
       "      <th>staff_available</th>\n",
       "      <th>patientid</th>\n",
       "      <th>Age</th>\n",
       "      <th>gender</th>\n",
       "      <th>Type of Admission</th>\n",
       "      <th>Severity of Illness</th>\n",
       "      <th>health_conditions</th>\n",
       "      <th>Visitors with Patient</th>\n",
       "      <th>Insurance</th>\n",
       "      <th>Admission_Deposit</th>\n",
       "    </tr>\n",
       "  </thead>\n",
       "  <tbody>\n",
       "    <tr>\n",
       "      <th>0</th>\n",
       "      <td>3</td>\n",
       "      <td>gynecology</td>\n",
       "      <td>F</td>\n",
       "      <td>Dr Olivia</td>\n",
       "      <td>10</td>\n",
       "      <td>2858</td>\n",
       "      <td>21-30</td>\n",
       "      <td>Female</td>\n",
       "      <td>Trauma</td>\n",
       "      <td>Moderate</td>\n",
       "      <td>Other</td>\n",
       "      <td>2</td>\n",
       "      <td>No</td>\n",
       "      <td>4749.640225</td>\n",
       "    </tr>\n",
       "    <tr>\n",
       "      <th>1</th>\n",
       "      <td>2</td>\n",
       "      <td>TB &amp; Chest disease</td>\n",
       "      <td>E</td>\n",
       "      <td>Dr John</td>\n",
       "      <td>4</td>\n",
       "      <td>65657</td>\n",
       "      <td>51-60</td>\n",
       "      <td>Female</td>\n",
       "      <td>Trauma</td>\n",
       "      <td>Moderate</td>\n",
       "      <td>Asthama</td>\n",
       "      <td>2</td>\n",
       "      <td>Yes</td>\n",
       "      <td>4122.261324</td>\n",
       "    </tr>\n",
       "    <tr>\n",
       "      <th>2</th>\n",
       "      <td>2</td>\n",
       "      <td>radiotherapy</td>\n",
       "      <td>E</td>\n",
       "      <td>Dr John</td>\n",
       "      <td>7</td>\n",
       "      <td>45598</td>\n",
       "      <td>51-60</td>\n",
       "      <td>Other</td>\n",
       "      <td>Trauma</td>\n",
       "      <td>Moderate</td>\n",
       "      <td>None</td>\n",
       "      <td>3</td>\n",
       "      <td>No</td>\n",
       "      <td>5459.067882</td>\n",
       "    </tr>\n",
       "  </tbody>\n",
       "</table>\n",
       "</div>"
      ],
      "text/plain": [
       "   Available Extra Rooms in Hospital          Department Ward_Facility_Code  \\\n",
       "0                                  3          gynecology                  F   \n",
       "1                                  2  TB & Chest disease                  E   \n",
       "2                                  2        radiotherapy                  E   \n",
       "\n",
       "  doctor_name  staff_available  patientid    Age  gender Type of Admission  \\\n",
       "0   Dr Olivia               10       2858  21-30  Female            Trauma   \n",
       "1     Dr John                4      65657  51-60  Female            Trauma   \n",
       "2     Dr John                7      45598  51-60   Other            Trauma   \n",
       "\n",
       "  Severity of Illness health_conditions  Visitors with Patient Insurance  \\\n",
       "0            Moderate             Other                      2        No   \n",
       "1            Moderate           Asthama                      2       Yes   \n",
       "2            Moderate              None                      3        No   \n",
       "\n",
       "   Admission_Deposit  \n",
       "0        4749.640225  \n",
       "1        4122.261324  \n",
       "2        5459.067882  "
      ]
     },
     "execution_count": 53,
     "metadata": {},
     "output_type": "execute_result"
    }
   ],
   "source": [
    "#Visualizamos \n",
    "\n",
    "df_test.head(3)"
   ]
  },
  {
   "cell_type": "code",
   "execution_count": 54,
   "metadata": {},
   "outputs": [
    {
     "name": "stdout",
     "output_type": "stream",
     "text": [
      "<class 'pandas.core.frame.DataFrame'>\n",
      "RangeIndex: 90000 entries, 0 to 89999\n",
      "Data columns (total 14 columns):\n",
      " #   Column                             Non-Null Count  Dtype  \n",
      "---  ------                             --------------  -----  \n",
      " 0   Available Extra Rooms in Hospital  90000 non-null  int64  \n",
      " 1   Department                         90000 non-null  object \n",
      " 2   Ward_Facility_Code                 90000 non-null  object \n",
      " 3   doctor_name                        90000 non-null  object \n",
      " 4   staff_available                    90000 non-null  int64  \n",
      " 5   patientid                          90000 non-null  int64  \n",
      " 6   Age                                90000 non-null  object \n",
      " 7   gender                             90000 non-null  object \n",
      " 8   Type of Admission                  90000 non-null  object \n",
      " 9   Severity of Illness                90000 non-null  object \n",
      " 10  health_conditions                  90000 non-null  object \n",
      " 11  Visitors with Patient              90000 non-null  int64  \n",
      " 12  Insurance                          90000 non-null  object \n",
      " 13  Admission_Deposit                  90000 non-null  float64\n",
      "dtypes: float64(1), int64(4), object(9)\n",
      "memory usage: 9.6+ MB\n"
     ]
    }
   ],
   "source": [
    "#Vemos qué información hay en el df\n",
    "\n",
    "df_test.info()"
   ]
  },
  {
   "cell_type": "code",
   "execution_count": 55,
   "metadata": {},
   "outputs": [
    {
     "data": {
      "text/html": [
       "<div>\n",
       "<style scoped>\n",
       "    .dataframe tbody tr th:only-of-type {\n",
       "        vertical-align: middle;\n",
       "    }\n",
       "\n",
       "    .dataframe tbody tr th {\n",
       "        vertical-align: top;\n",
       "    }\n",
       "\n",
       "    .dataframe thead th {\n",
       "        text-align: right;\n",
       "    }\n",
       "</style>\n",
       "<table border=\"1\" class=\"dataframe\">\n",
       "  <thead>\n",
       "    <tr style=\"text-align: right;\">\n",
       "      <th></th>\n",
       "      <th>Available Extra Rooms in Hospital</th>\n",
       "      <th>Department</th>\n",
       "      <th>Ward_Facility_Code</th>\n",
       "      <th>doctor_name</th>\n",
       "      <th>staff_available</th>\n",
       "      <th>patientid</th>\n",
       "      <th>Age</th>\n",
       "      <th>gender</th>\n",
       "      <th>Type of Admission</th>\n",
       "      <th>Severity of Illness</th>\n",
       "      <th>health_conditions</th>\n",
       "      <th>Visitors with Patient</th>\n",
       "      <th>Insurance</th>\n",
       "      <th>Admission_Deposit</th>\n",
       "      <th>Stay (in days)</th>\n",
       "    </tr>\n",
       "  </thead>\n",
       "  <tbody>\n",
       "    <tr>\n",
       "      <th>0</th>\n",
       "      <td>4</td>\n",
       "      <td>gynecology</td>\n",
       "      <td>D</td>\n",
       "      <td>Dr Sophia</td>\n",
       "      <td>0</td>\n",
       "      <td>33070</td>\n",
       "      <td>41-50</td>\n",
       "      <td>Female</td>\n",
       "      <td>Trauma</td>\n",
       "      <td>Extreme</td>\n",
       "      <td>Diabetes</td>\n",
       "      <td>4</td>\n",
       "      <td>Yes</td>\n",
       "      <td>2966.408696</td>\n",
       "      <td>8</td>\n",
       "    </tr>\n",
       "    <tr>\n",
       "      <th>1</th>\n",
       "      <td>4</td>\n",
       "      <td>gynecology</td>\n",
       "      <td>B</td>\n",
       "      <td>Dr Sophia</td>\n",
       "      <td>2</td>\n",
       "      <td>34808</td>\n",
       "      <td>31-40</td>\n",
       "      <td>Female</td>\n",
       "      <td>Trauma</td>\n",
       "      <td>Minor</td>\n",
       "      <td>Heart disease</td>\n",
       "      <td>2</td>\n",
       "      <td>No</td>\n",
       "      <td>3554.835677</td>\n",
       "      <td>9</td>\n",
       "    </tr>\n",
       "    <tr>\n",
       "      <th>2</th>\n",
       "      <td>2</td>\n",
       "      <td>gynecology</td>\n",
       "      <td>B</td>\n",
       "      <td>Dr Sophia</td>\n",
       "      <td>8</td>\n",
       "      <td>44577</td>\n",
       "      <td>21-30</td>\n",
       "      <td>Female</td>\n",
       "      <td>Trauma</td>\n",
       "      <td>Extreme</td>\n",
       "      <td>Diabetes</td>\n",
       "      <td>2</td>\n",
       "      <td>Yes</td>\n",
       "      <td>5624.733654</td>\n",
       "      <td>7</td>\n",
       "    </tr>\n",
       "  </tbody>\n",
       "</table>\n",
       "</div>"
      ],
      "text/plain": [
       "   Available Extra Rooms in Hospital  Department Ward_Facility_Code  \\\n",
       "0                                  4  gynecology                  D   \n",
       "1                                  4  gynecology                  B   \n",
       "2                                  2  gynecology                  B   \n",
       "\n",
       "  doctor_name  staff_available  patientid    Age  gender Type of Admission  \\\n",
       "0   Dr Sophia                0      33070  41-50  Female            Trauma   \n",
       "1   Dr Sophia                2      34808  31-40  Female            Trauma   \n",
       "2   Dr Sophia                8      44577  21-30  Female            Trauma   \n",
       "\n",
       "  Severity of Illness health_conditions  Visitors with Patient Insurance  \\\n",
       "0             Extreme          Diabetes                      4       Yes   \n",
       "1               Minor     Heart disease                      2        No   \n",
       "2             Extreme          Diabetes                      2       Yes   \n",
       "\n",
       "   Admission_Deposit  Stay (in days)  \n",
       "0        2966.408696               8  \n",
       "1        3554.835677               9  \n",
       "2        5624.733654               7  "
      ]
     },
     "execution_count": 55,
     "metadata": {},
     "output_type": "execute_result"
    }
   ],
   "source": [
    "df_train.head(3)"
   ]
  },
  {
   "cell_type": "code",
   "execution_count": 56,
   "metadata": {},
   "outputs": [
    {
     "name": "stdout",
     "output_type": "stream",
     "text": [
      "<class 'pandas.core.frame.DataFrame'>\n",
      "RangeIndex: 410000 entries, 0 to 409999\n",
      "Data columns (total 15 columns):\n",
      " #   Column                             Non-Null Count   Dtype  \n",
      "---  ------                             --------------   -----  \n",
      " 0   Available Extra Rooms in Hospital  410000 non-null  int64  \n",
      " 1   Department                         410000 non-null  object \n",
      " 2   Ward_Facility_Code                 410000 non-null  object \n",
      " 3   doctor_name                        410000 non-null  object \n",
      " 4   staff_available                    410000 non-null  int64  \n",
      " 5   patientid                          410000 non-null  int64  \n",
      " 6   Age                                410000 non-null  object \n",
      " 7   gender                             410000 non-null  object \n",
      " 8   Type of Admission                  410000 non-null  object \n",
      " 9   Severity of Illness                410000 non-null  object \n",
      " 10  health_conditions                  410000 non-null  object \n",
      " 11  Visitors with Patient              410000 non-null  int64  \n",
      " 12  Insurance                          410000 non-null  object \n",
      " 13  Admission_Deposit                  410000 non-null  float64\n",
      " 14  Stay (in days)                     410000 non-null  int64  \n",
      "dtypes: float64(1), int64(5), object(9)\n",
      "memory usage: 46.9+ MB\n"
     ]
    }
   ],
   "source": [
    "df_train.info()"
   ]
  },
  {
   "cell_type": "code",
   "execution_count": 57,
   "metadata": {},
   "outputs": [],
   "source": [
    "#Renombramos las columnas \n",
    "\n",
    "df_train.rename(columns = {'Available Extra Rooms in Hospital':'hab_disponibles', \n",
    " 'Department':'area_ingreso',\n",
    " 'Ward_Facility_Code':'codigo_hab', \n",
    " 'doctor_name':'doctor',\n",
    " 'staff_available':'personal',\n",
    " 'patientid':'id_paciente',\n",
    " 'Age':'rango_etario',\n",
    " 'gender':'genero',\n",
    " 'Type of Admission':'tipo_ingreso',\n",
    " 'Severity of Illness':'gravedad',\n",
    " 'health_conditions':'condicion_salud',\n",
    " 'Visitors with Patient':'visitantes_paciente',\n",
    " 'Insurance':'seguro_medico',\n",
    " 'Admission_Deposit':'pago_inicial',\n",
    " 'Stay (in days)':'estancia_dias'},inplace = True)"
   ]
  },
  {
   "cell_type": "code",
   "execution_count": 58,
   "metadata": {},
   "outputs": [
    {
     "data": {
      "text/html": [
       "<div>\n",
       "<style scoped>\n",
       "    .dataframe tbody tr th:only-of-type {\n",
       "        vertical-align: middle;\n",
       "    }\n",
       "\n",
       "    .dataframe tbody tr th {\n",
       "        vertical-align: top;\n",
       "    }\n",
       "\n",
       "    .dataframe thead th {\n",
       "        text-align: right;\n",
       "    }\n",
       "</style>\n",
       "<table border=\"1\" class=\"dataframe\">\n",
       "  <thead>\n",
       "    <tr style=\"text-align: right;\">\n",
       "      <th></th>\n",
       "      <th>hab_disponibles</th>\n",
       "      <th>area_ingreso</th>\n",
       "      <th>codigo_hab</th>\n",
       "      <th>doctor</th>\n",
       "      <th>personal</th>\n",
       "      <th>id_paciente</th>\n",
       "      <th>rango_etario</th>\n",
       "      <th>genero</th>\n",
       "      <th>tipo_ingreso</th>\n",
       "      <th>gravedad</th>\n",
       "      <th>condicion_salud</th>\n",
       "      <th>visitantes_paciente</th>\n",
       "      <th>seguro_medico</th>\n",
       "      <th>pago_inicial</th>\n",
       "      <th>estancia_dias</th>\n",
       "    </tr>\n",
       "  </thead>\n",
       "  <tbody>\n",
       "    <tr>\n",
       "      <th>0</th>\n",
       "      <td>4</td>\n",
       "      <td>gynecology</td>\n",
       "      <td>D</td>\n",
       "      <td>Dr Sophia</td>\n",
       "      <td>0</td>\n",
       "      <td>33070</td>\n",
       "      <td>41-50</td>\n",
       "      <td>Female</td>\n",
       "      <td>Trauma</td>\n",
       "      <td>Extreme</td>\n",
       "      <td>Diabetes</td>\n",
       "      <td>4</td>\n",
       "      <td>Yes</td>\n",
       "      <td>2966.408696</td>\n",
       "      <td>8</td>\n",
       "    </tr>\n",
       "    <tr>\n",
       "      <th>1</th>\n",
       "      <td>4</td>\n",
       "      <td>gynecology</td>\n",
       "      <td>B</td>\n",
       "      <td>Dr Sophia</td>\n",
       "      <td>2</td>\n",
       "      <td>34808</td>\n",
       "      <td>31-40</td>\n",
       "      <td>Female</td>\n",
       "      <td>Trauma</td>\n",
       "      <td>Minor</td>\n",
       "      <td>Heart disease</td>\n",
       "      <td>2</td>\n",
       "      <td>No</td>\n",
       "      <td>3554.835677</td>\n",
       "      <td>9</td>\n",
       "    </tr>\n",
       "    <tr>\n",
       "      <th>2</th>\n",
       "      <td>2</td>\n",
       "      <td>gynecology</td>\n",
       "      <td>B</td>\n",
       "      <td>Dr Sophia</td>\n",
       "      <td>8</td>\n",
       "      <td>44577</td>\n",
       "      <td>21-30</td>\n",
       "      <td>Female</td>\n",
       "      <td>Trauma</td>\n",
       "      <td>Extreme</td>\n",
       "      <td>Diabetes</td>\n",
       "      <td>2</td>\n",
       "      <td>Yes</td>\n",
       "      <td>5624.733654</td>\n",
       "      <td>7</td>\n",
       "    </tr>\n",
       "  </tbody>\n",
       "</table>\n",
       "</div>"
      ],
      "text/plain": [
       "   hab_disponibles area_ingreso codigo_hab     doctor  personal  id_paciente  \\\n",
       "0                4   gynecology          D  Dr Sophia         0        33070   \n",
       "1                4   gynecology          B  Dr Sophia         2        34808   \n",
       "2                2   gynecology          B  Dr Sophia         8        44577   \n",
       "\n",
       "  rango_etario  genero tipo_ingreso gravedad condicion_salud  \\\n",
       "0        41-50  Female       Trauma  Extreme        Diabetes   \n",
       "1        31-40  Female       Trauma    Minor   Heart disease   \n",
       "2        21-30  Female       Trauma  Extreme        Diabetes   \n",
       "\n",
       "   visitantes_paciente seguro_medico  pago_inicial  estancia_dias  \n",
       "0                    4           Yes   2966.408696              8  \n",
       "1                    2            No   3554.835677              9  \n",
       "2                    2           Yes   5624.733654              7  "
      ]
     },
     "execution_count": 58,
     "metadata": {},
     "output_type": "execute_result"
    }
   ],
   "source": [
    "df_train.head(3)"
   ]
  },
  {
   "cell_type": "code",
   "execution_count": 59,
   "metadata": {},
   "outputs": [],
   "source": [
    "#Creo la columna target, donde tengo discriminado en estancias de hasta 7 dias (0) y estancias de 8 dias o más (1)\n",
    "\n",
    "df_train[\"target\"] = (df_train['estancia_dias'] >= 9).astype(int)"
   ]
  },
  {
   "cell_type": "code",
   "execution_count": 60,
   "metadata": {},
   "outputs": [
    {
     "data": {
      "text/html": [
       "<div>\n",
       "<style scoped>\n",
       "    .dataframe tbody tr th:only-of-type {\n",
       "        vertical-align: middle;\n",
       "    }\n",
       "\n",
       "    .dataframe tbody tr th {\n",
       "        vertical-align: top;\n",
       "    }\n",
       "\n",
       "    .dataframe thead th {\n",
       "        text-align: right;\n",
       "    }\n",
       "</style>\n",
       "<table border=\"1\" class=\"dataframe\">\n",
       "  <thead>\n",
       "    <tr style=\"text-align: right;\">\n",
       "      <th></th>\n",
       "      <th>hab_disponibles</th>\n",
       "      <th>area_ingreso</th>\n",
       "      <th>codigo_hab</th>\n",
       "      <th>doctor</th>\n",
       "      <th>personal</th>\n",
       "      <th>id_paciente</th>\n",
       "      <th>rango_etario</th>\n",
       "      <th>genero</th>\n",
       "      <th>tipo_ingreso</th>\n",
       "      <th>gravedad</th>\n",
       "      <th>condicion_salud</th>\n",
       "      <th>visitantes_paciente</th>\n",
       "      <th>seguro_medico</th>\n",
       "      <th>pago_inicial</th>\n",
       "      <th>estancia_dias</th>\n",
       "      <th>target</th>\n",
       "    </tr>\n",
       "  </thead>\n",
       "  <tbody>\n",
       "    <tr>\n",
       "      <th>0</th>\n",
       "      <td>4</td>\n",
       "      <td>gynecology</td>\n",
       "      <td>D</td>\n",
       "      <td>Dr Sophia</td>\n",
       "      <td>0</td>\n",
       "      <td>33070</td>\n",
       "      <td>41-50</td>\n",
       "      <td>Female</td>\n",
       "      <td>Trauma</td>\n",
       "      <td>Extreme</td>\n",
       "      <td>Diabetes</td>\n",
       "      <td>4</td>\n",
       "      <td>Yes</td>\n",
       "      <td>2966.408696</td>\n",
       "      <td>8</td>\n",
       "      <td>0</td>\n",
       "    </tr>\n",
       "    <tr>\n",
       "      <th>1</th>\n",
       "      <td>4</td>\n",
       "      <td>gynecology</td>\n",
       "      <td>B</td>\n",
       "      <td>Dr Sophia</td>\n",
       "      <td>2</td>\n",
       "      <td>34808</td>\n",
       "      <td>31-40</td>\n",
       "      <td>Female</td>\n",
       "      <td>Trauma</td>\n",
       "      <td>Minor</td>\n",
       "      <td>Heart disease</td>\n",
       "      <td>2</td>\n",
       "      <td>No</td>\n",
       "      <td>3554.835677</td>\n",
       "      <td>9</td>\n",
       "      <td>1</td>\n",
       "    </tr>\n",
       "    <tr>\n",
       "      <th>2</th>\n",
       "      <td>2</td>\n",
       "      <td>gynecology</td>\n",
       "      <td>B</td>\n",
       "      <td>Dr Sophia</td>\n",
       "      <td>8</td>\n",
       "      <td>44577</td>\n",
       "      <td>21-30</td>\n",
       "      <td>Female</td>\n",
       "      <td>Trauma</td>\n",
       "      <td>Extreme</td>\n",
       "      <td>Diabetes</td>\n",
       "      <td>2</td>\n",
       "      <td>Yes</td>\n",
       "      <td>5624.733654</td>\n",
       "      <td>7</td>\n",
       "      <td>0</td>\n",
       "    </tr>\n",
       "  </tbody>\n",
       "</table>\n",
       "</div>"
      ],
      "text/plain": [
       "   hab_disponibles area_ingreso codigo_hab     doctor  personal  id_paciente  \\\n",
       "0                4   gynecology          D  Dr Sophia         0        33070   \n",
       "1                4   gynecology          B  Dr Sophia         2        34808   \n",
       "2                2   gynecology          B  Dr Sophia         8        44577   \n",
       "\n",
       "  rango_etario  genero tipo_ingreso gravedad condicion_salud  \\\n",
       "0        41-50  Female       Trauma  Extreme        Diabetes   \n",
       "1        31-40  Female       Trauma    Minor   Heart disease   \n",
       "2        21-30  Female       Trauma  Extreme        Diabetes   \n",
       "\n",
       "   visitantes_paciente seguro_medico  pago_inicial  estancia_dias  target  \n",
       "0                    4           Yes   2966.408696              8       0  \n",
       "1                    2            No   3554.835677              9       1  \n",
       "2                    2           Yes   5624.733654              7       0  "
      ]
     },
     "execution_count": 60,
     "metadata": {},
     "output_type": "execute_result"
    }
   ],
   "source": [
    "df_train.head(3)"
   ]
  },
  {
   "cell_type": "code",
   "execution_count": 61,
   "metadata": {},
   "outputs": [],
   "source": [
    "#Creamos un nuevo df solo con aquellas columnas que vamos a utilizar para nuestro modelo, dejando de lado aquellas columnas que no me aporten información relevante como ser \n",
    "#la columna 'visitantes_paciente', 'codigo_hab'"
   ]
  },
  {
   "cell_type": "code",
   "execution_count": 62,
   "metadata": {},
   "outputs": [],
   "source": [
    "df_train1 = df_train.loc[:,['area_ingreso','doctor','rango_etario','genero','tipo_ingreso','gravedad','condicion_salud','seguro_medico','target']]"
   ]
  },
  {
   "attachments": {},
   "cell_type": "markdown",
   "metadata": {},
   "source": [
    "Visualizamos"
   ]
  },
  {
   "cell_type": "code",
   "execution_count": 63,
   "metadata": {},
   "outputs": [
    {
     "data": {
      "text/html": [
       "<div>\n",
       "<style scoped>\n",
       "    .dataframe tbody tr th:only-of-type {\n",
       "        vertical-align: middle;\n",
       "    }\n",
       "\n",
       "    .dataframe tbody tr th {\n",
       "        vertical-align: top;\n",
       "    }\n",
       "\n",
       "    .dataframe thead th {\n",
       "        text-align: right;\n",
       "    }\n",
       "</style>\n",
       "<table border=\"1\" class=\"dataframe\">\n",
       "  <thead>\n",
       "    <tr style=\"text-align: right;\">\n",
       "      <th></th>\n",
       "      <th>area_ingreso</th>\n",
       "      <th>doctor</th>\n",
       "      <th>rango_etario</th>\n",
       "      <th>genero</th>\n",
       "      <th>tipo_ingreso</th>\n",
       "      <th>gravedad</th>\n",
       "      <th>condicion_salud</th>\n",
       "      <th>seguro_medico</th>\n",
       "      <th>target</th>\n",
       "    </tr>\n",
       "  </thead>\n",
       "  <tbody>\n",
       "    <tr>\n",
       "      <th>0</th>\n",
       "      <td>gynecology</td>\n",
       "      <td>Dr Sophia</td>\n",
       "      <td>41-50</td>\n",
       "      <td>Female</td>\n",
       "      <td>Trauma</td>\n",
       "      <td>Extreme</td>\n",
       "      <td>Diabetes</td>\n",
       "      <td>Yes</td>\n",
       "      <td>0</td>\n",
       "    </tr>\n",
       "    <tr>\n",
       "      <th>1</th>\n",
       "      <td>gynecology</td>\n",
       "      <td>Dr Sophia</td>\n",
       "      <td>31-40</td>\n",
       "      <td>Female</td>\n",
       "      <td>Trauma</td>\n",
       "      <td>Minor</td>\n",
       "      <td>Heart disease</td>\n",
       "      <td>No</td>\n",
       "      <td>1</td>\n",
       "    </tr>\n",
       "    <tr>\n",
       "      <th>2</th>\n",
       "      <td>gynecology</td>\n",
       "      <td>Dr Sophia</td>\n",
       "      <td>21-30</td>\n",
       "      <td>Female</td>\n",
       "      <td>Trauma</td>\n",
       "      <td>Extreme</td>\n",
       "      <td>Diabetes</td>\n",
       "      <td>Yes</td>\n",
       "      <td>0</td>\n",
       "    </tr>\n",
       "    <tr>\n",
       "      <th>3</th>\n",
       "      <td>gynecology</td>\n",
       "      <td>Dr Olivia</td>\n",
       "      <td>31-40</td>\n",
       "      <td>Female</td>\n",
       "      <td>Urgent</td>\n",
       "      <td>Moderate</td>\n",
       "      <td>None</td>\n",
       "      <td>No</td>\n",
       "      <td>0</td>\n",
       "    </tr>\n",
       "    <tr>\n",
       "      <th>4</th>\n",
       "      <td>anesthesia</td>\n",
       "      <td>Dr Mark</td>\n",
       "      <td>71-80</td>\n",
       "      <td>Male</td>\n",
       "      <td>Trauma</td>\n",
       "      <td>Moderate</td>\n",
       "      <td>Diabetes</td>\n",
       "      <td>No</td>\n",
       "      <td>1</td>\n",
       "    </tr>\n",
       "    <tr>\n",
       "      <th>...</th>\n",
       "      <td>...</td>\n",
       "      <td>...</td>\n",
       "      <td>...</td>\n",
       "      <td>...</td>\n",
       "      <td>...</td>\n",
       "      <td>...</td>\n",
       "      <td>...</td>\n",
       "      <td>...</td>\n",
       "      <td>...</td>\n",
       "    </tr>\n",
       "    <tr>\n",
       "      <th>409995</th>\n",
       "      <td>gynecology</td>\n",
       "      <td>Dr Sarah</td>\n",
       "      <td>31-40</td>\n",
       "      <td>Female</td>\n",
       "      <td>Trauma</td>\n",
       "      <td>Minor</td>\n",
       "      <td>Asthama</td>\n",
       "      <td>Yes</td>\n",
       "      <td>0</td>\n",
       "    </tr>\n",
       "    <tr>\n",
       "      <th>409996</th>\n",
       "      <td>gynecology</td>\n",
       "      <td>Dr Nathan</td>\n",
       "      <td>21-30</td>\n",
       "      <td>Female</td>\n",
       "      <td>Trauma</td>\n",
       "      <td>Extreme</td>\n",
       "      <td>Other</td>\n",
       "      <td>No</td>\n",
       "      <td>1</td>\n",
       "    </tr>\n",
       "    <tr>\n",
       "      <th>409997</th>\n",
       "      <td>gynecology</td>\n",
       "      <td>Dr Sarah</td>\n",
       "      <td>21-30</td>\n",
       "      <td>Female</td>\n",
       "      <td>Emergency</td>\n",
       "      <td>Minor</td>\n",
       "      <td>Asthama</td>\n",
       "      <td>Yes</td>\n",
       "      <td>1</td>\n",
       "    </tr>\n",
       "    <tr>\n",
       "      <th>409998</th>\n",
       "      <td>gynecology</td>\n",
       "      <td>Dr Olivia</td>\n",
       "      <td>21-30</td>\n",
       "      <td>Female</td>\n",
       "      <td>Trauma</td>\n",
       "      <td>Moderate</td>\n",
       "      <td>Other</td>\n",
       "      <td>Yes</td>\n",
       "      <td>1</td>\n",
       "    </tr>\n",
       "    <tr>\n",
       "      <th>409999</th>\n",
       "      <td>gynecology</td>\n",
       "      <td>Dr Nathan</td>\n",
       "      <td>41-50</td>\n",
       "      <td>Female</td>\n",
       "      <td>Trauma</td>\n",
       "      <td>Minor</td>\n",
       "      <td>Other</td>\n",
       "      <td>Yes</td>\n",
       "      <td>0</td>\n",
       "    </tr>\n",
       "  </tbody>\n",
       "</table>\n",
       "<p>410000 rows × 9 columns</p>\n",
       "</div>"
      ],
      "text/plain": [
       "       area_ingreso     doctor rango_etario  genero tipo_ingreso  gravedad  \\\n",
       "0        gynecology  Dr Sophia        41-50  Female       Trauma   Extreme   \n",
       "1        gynecology  Dr Sophia        31-40  Female       Trauma     Minor   \n",
       "2        gynecology  Dr Sophia        21-30  Female       Trauma   Extreme   \n",
       "3        gynecology  Dr Olivia        31-40  Female       Urgent  Moderate   \n",
       "4        anesthesia    Dr Mark        71-80    Male       Trauma  Moderate   \n",
       "...             ...        ...          ...     ...          ...       ...   \n",
       "409995   gynecology   Dr Sarah        31-40  Female       Trauma     Minor   \n",
       "409996   gynecology  Dr Nathan        21-30  Female       Trauma   Extreme   \n",
       "409997   gynecology   Dr Sarah        21-30  Female    Emergency     Minor   \n",
       "409998   gynecology  Dr Olivia        21-30  Female       Trauma  Moderate   \n",
       "409999   gynecology  Dr Nathan        41-50  Female       Trauma     Minor   \n",
       "\n",
       "       condicion_salud seguro_medico  target  \n",
       "0             Diabetes           Yes       0  \n",
       "1        Heart disease            No       1  \n",
       "2             Diabetes           Yes       0  \n",
       "3                 None            No       0  \n",
       "4             Diabetes            No       1  \n",
       "...                ...           ...     ...  \n",
       "409995         Asthama           Yes       0  \n",
       "409996           Other            No       1  \n",
       "409997         Asthama           Yes       1  \n",
       "409998           Other           Yes       1  \n",
       "409999           Other           Yes       0  \n",
       "\n",
       "[410000 rows x 9 columns]"
      ]
     },
     "execution_count": 63,
     "metadata": {},
     "output_type": "execute_result"
    }
   ],
   "source": [
    "df_train1"
   ]
  },
  {
   "cell_type": "code",
   "execution_count": 64,
   "metadata": {},
   "outputs": [],
   "source": [
    "#Renombro las columnas de df_test y selecciono solo aquellas  que me son de utilidad para mi modelo."
   ]
  },
  {
   "cell_type": "code",
   "execution_count": 65,
   "metadata": {},
   "outputs": [],
   "source": [
    "#Renombramos las columnas \n",
    "\n",
    "df_test.rename(columns = {'Available Extra Rooms in Hospital':'hab_disponibles', \n",
    " 'Department':'area_ingreso',\n",
    " 'Ward_Facility_Code':'codigo_hab', \n",
    " 'doctor_name':'doctor',\n",
    " 'staff_available':'personal',\n",
    " 'patientid':'id_paciente',\n",
    " 'Age':'rango_etario',\n",
    " 'gender':'genero',\n",
    " 'Type of Admission':'tipo_ingreso',\n",
    " 'Severity of Illness':'gravedad',\n",
    " 'health_conditions':'condicion_salud',\n",
    " 'Visitors with Patient':'visitantes_paciente',\n",
    " 'Insurance':'seguro_medico',\n",
    " 'Admission_Deposit':'pago_inicial',\n",
    " 'Stay (in days)':'estancia_dias'},inplace = True)"
   ]
  },
  {
   "cell_type": "code",
   "execution_count": 66,
   "metadata": {},
   "outputs": [],
   "source": [
    "df_test1 = df_test.loc[:,['area_ingreso','doctor','rango_etario','genero','tipo_ingreso','gravedad','condicion_salud','seguro_medico']]"
   ]
  },
  {
   "cell_type": "code",
   "execution_count": 67,
   "metadata": {},
   "outputs": [
    {
     "data": {
      "text/html": [
       "<div>\n",
       "<style scoped>\n",
       "    .dataframe tbody tr th:only-of-type {\n",
       "        vertical-align: middle;\n",
       "    }\n",
       "\n",
       "    .dataframe tbody tr th {\n",
       "        vertical-align: top;\n",
       "    }\n",
       "\n",
       "    .dataframe thead th {\n",
       "        text-align: right;\n",
       "    }\n",
       "</style>\n",
       "<table border=\"1\" class=\"dataframe\">\n",
       "  <thead>\n",
       "    <tr style=\"text-align: right;\">\n",
       "      <th></th>\n",
       "      <th>area_ingreso</th>\n",
       "      <th>doctor</th>\n",
       "      <th>rango_etario</th>\n",
       "      <th>genero</th>\n",
       "      <th>tipo_ingreso</th>\n",
       "      <th>gravedad</th>\n",
       "      <th>condicion_salud</th>\n",
       "      <th>seguro_medico</th>\n",
       "    </tr>\n",
       "  </thead>\n",
       "  <tbody>\n",
       "    <tr>\n",
       "      <th>0</th>\n",
       "      <td>gynecology</td>\n",
       "      <td>Dr Olivia</td>\n",
       "      <td>21-30</td>\n",
       "      <td>Female</td>\n",
       "      <td>Trauma</td>\n",
       "      <td>Moderate</td>\n",
       "      <td>Other</td>\n",
       "      <td>No</td>\n",
       "    </tr>\n",
       "    <tr>\n",
       "      <th>1</th>\n",
       "      <td>TB &amp; Chest disease</td>\n",
       "      <td>Dr John</td>\n",
       "      <td>51-60</td>\n",
       "      <td>Female</td>\n",
       "      <td>Trauma</td>\n",
       "      <td>Moderate</td>\n",
       "      <td>Asthama</td>\n",
       "      <td>Yes</td>\n",
       "    </tr>\n",
       "    <tr>\n",
       "      <th>2</th>\n",
       "      <td>radiotherapy</td>\n",
       "      <td>Dr John</td>\n",
       "      <td>51-60</td>\n",
       "      <td>Other</td>\n",
       "      <td>Trauma</td>\n",
       "      <td>Moderate</td>\n",
       "      <td>None</td>\n",
       "      <td>No</td>\n",
       "    </tr>\n",
       "    <tr>\n",
       "      <th>3</th>\n",
       "      <td>gynecology</td>\n",
       "      <td>Dr Olivia</td>\n",
       "      <td>21-30</td>\n",
       "      <td>Female</td>\n",
       "      <td>Trauma</td>\n",
       "      <td>Moderate</td>\n",
       "      <td>None</td>\n",
       "      <td>Yes</td>\n",
       "    </tr>\n",
       "    <tr>\n",
       "      <th>4</th>\n",
       "      <td>anesthesia</td>\n",
       "      <td>Dr John</td>\n",
       "      <td>51-60</td>\n",
       "      <td>Female</td>\n",
       "      <td>Trauma</td>\n",
       "      <td>Extreme</td>\n",
       "      <td>Diabetes</td>\n",
       "      <td>No</td>\n",
       "    </tr>\n",
       "    <tr>\n",
       "      <th>...</th>\n",
       "      <td>...</td>\n",
       "      <td>...</td>\n",
       "      <td>...</td>\n",
       "      <td>...</td>\n",
       "      <td>...</td>\n",
       "      <td>...</td>\n",
       "      <td>...</td>\n",
       "      <td>...</td>\n",
       "    </tr>\n",
       "    <tr>\n",
       "      <th>89995</th>\n",
       "      <td>gynecology</td>\n",
       "      <td>Dr Sarah</td>\n",
       "      <td>11-20</td>\n",
       "      <td>Female</td>\n",
       "      <td>Trauma</td>\n",
       "      <td>Minor</td>\n",
       "      <td>High Blood Pressure</td>\n",
       "      <td>No</td>\n",
       "    </tr>\n",
       "    <tr>\n",
       "      <th>89996</th>\n",
       "      <td>gynecology</td>\n",
       "      <td>Dr Olivia</td>\n",
       "      <td>31-40</td>\n",
       "      <td>Female</td>\n",
       "      <td>Emergency</td>\n",
       "      <td>Moderate</td>\n",
       "      <td>Other</td>\n",
       "      <td>No</td>\n",
       "    </tr>\n",
       "    <tr>\n",
       "      <th>89997</th>\n",
       "      <td>gynecology</td>\n",
       "      <td>Dr Sarah</td>\n",
       "      <td>11-20</td>\n",
       "      <td>Female</td>\n",
       "      <td>Emergency</td>\n",
       "      <td>Moderate</td>\n",
       "      <td>High Blood Pressure</td>\n",
       "      <td>No</td>\n",
       "    </tr>\n",
       "    <tr>\n",
       "      <th>89998</th>\n",
       "      <td>radiotherapy</td>\n",
       "      <td>Dr John</td>\n",
       "      <td>61-70</td>\n",
       "      <td>Female</td>\n",
       "      <td>Trauma</td>\n",
       "      <td>Extreme</td>\n",
       "      <td>Diabetes</td>\n",
       "      <td>No</td>\n",
       "    </tr>\n",
       "    <tr>\n",
       "      <th>89999</th>\n",
       "      <td>gynecology</td>\n",
       "      <td>Dr Sophia</td>\n",
       "      <td>41-50</td>\n",
       "      <td>Female</td>\n",
       "      <td>Trauma</td>\n",
       "      <td>Moderate</td>\n",
       "      <td>Heart disease</td>\n",
       "      <td>Yes</td>\n",
       "    </tr>\n",
       "  </tbody>\n",
       "</table>\n",
       "<p>90000 rows × 8 columns</p>\n",
       "</div>"
      ],
      "text/plain": [
       "             area_ingreso     doctor rango_etario  genero tipo_ingreso  \\\n",
       "0              gynecology  Dr Olivia        21-30  Female       Trauma   \n",
       "1      TB & Chest disease    Dr John        51-60  Female       Trauma   \n",
       "2            radiotherapy    Dr John        51-60   Other       Trauma   \n",
       "3              gynecology  Dr Olivia        21-30  Female       Trauma   \n",
       "4              anesthesia    Dr John        51-60  Female       Trauma   \n",
       "...                   ...        ...          ...     ...          ...   \n",
       "89995          gynecology   Dr Sarah        11-20  Female       Trauma   \n",
       "89996          gynecology  Dr Olivia        31-40  Female    Emergency   \n",
       "89997          gynecology   Dr Sarah        11-20  Female    Emergency   \n",
       "89998        radiotherapy    Dr John        61-70  Female       Trauma   \n",
       "89999          gynecology  Dr Sophia        41-50  Female       Trauma   \n",
       "\n",
       "       gravedad      condicion_salud seguro_medico  \n",
       "0      Moderate                Other            No  \n",
       "1      Moderate              Asthama           Yes  \n",
       "2      Moderate                 None            No  \n",
       "3      Moderate                 None           Yes  \n",
       "4       Extreme             Diabetes            No  \n",
       "...         ...                  ...           ...  \n",
       "89995     Minor  High Blood Pressure            No  \n",
       "89996  Moderate                Other            No  \n",
       "89997  Moderate  High Blood Pressure            No  \n",
       "89998   Extreme             Diabetes            No  \n",
       "89999  Moderate        Heart disease           Yes  \n",
       "\n",
       "[90000 rows x 8 columns]"
      ]
     },
     "execution_count": 67,
     "metadata": {},
     "output_type": "execute_result"
    }
   ],
   "source": [
    "df_test1"
   ]
  },
  {
   "attachments": {},
   "cell_type": "markdown",
   "metadata": {},
   "source": [
    "Convertimos las variables categóricas en variables indicadoras"
   ]
  },
  {
   "cell_type": "code",
   "execution_count": 68,
   "metadata": {},
   "outputs": [],
   "source": [
    "df_train1 = pd.get_dummies(df_train1,drop_first = True)\n",
    "df_test1 = pd.get_dummies(df_test1, drop_first=True)"
   ]
  },
  {
   "cell_type": "code",
   "execution_count": 69,
   "metadata": {},
   "outputs": [
    {
     "data": {
      "text/html": [
       "<div>\n",
       "<style scoped>\n",
       "    .dataframe tbody tr th:only-of-type {\n",
       "        vertical-align: middle;\n",
       "    }\n",
       "\n",
       "    .dataframe tbody tr th {\n",
       "        vertical-align: top;\n",
       "    }\n",
       "\n",
       "    .dataframe thead th {\n",
       "        text-align: right;\n",
       "    }\n",
       "</style>\n",
       "<table border=\"1\" class=\"dataframe\">\n",
       "  <thead>\n",
       "    <tr style=\"text-align: right;\">\n",
       "      <th></th>\n",
       "      <th>target</th>\n",
       "      <th>area_ingreso_anesthesia</th>\n",
       "      <th>area_ingreso_gynecology</th>\n",
       "      <th>area_ingreso_radiotherapy</th>\n",
       "      <th>area_ingreso_surgery</th>\n",
       "      <th>doctor_Dr John</th>\n",
       "      <th>doctor_Dr Mark</th>\n",
       "      <th>doctor_Dr Nathan</th>\n",
       "      <th>doctor_Dr Olivia</th>\n",
       "      <th>doctor_Dr Sam</th>\n",
       "      <th>...</th>\n",
       "      <th>tipo_ingreso_Trauma</th>\n",
       "      <th>tipo_ingreso_Urgent</th>\n",
       "      <th>gravedad_Minor</th>\n",
       "      <th>gravedad_Moderate</th>\n",
       "      <th>condicion_salud_Diabetes</th>\n",
       "      <th>condicion_salud_Heart disease</th>\n",
       "      <th>condicion_salud_High Blood Pressure</th>\n",
       "      <th>condicion_salud_None</th>\n",
       "      <th>condicion_salud_Other</th>\n",
       "      <th>seguro_medico_Yes</th>\n",
       "    </tr>\n",
       "  </thead>\n",
       "  <tbody>\n",
       "    <tr>\n",
       "      <th>0</th>\n",
       "      <td>0</td>\n",
       "      <td>0</td>\n",
       "      <td>1</td>\n",
       "      <td>0</td>\n",
       "      <td>0</td>\n",
       "      <td>0</td>\n",
       "      <td>0</td>\n",
       "      <td>0</td>\n",
       "      <td>0</td>\n",
       "      <td>0</td>\n",
       "      <td>...</td>\n",
       "      <td>1</td>\n",
       "      <td>0</td>\n",
       "      <td>0</td>\n",
       "      <td>0</td>\n",
       "      <td>1</td>\n",
       "      <td>0</td>\n",
       "      <td>0</td>\n",
       "      <td>0</td>\n",
       "      <td>0</td>\n",
       "      <td>1</td>\n",
       "    </tr>\n",
       "    <tr>\n",
       "      <th>1</th>\n",
       "      <td>1</td>\n",
       "      <td>0</td>\n",
       "      <td>1</td>\n",
       "      <td>0</td>\n",
       "      <td>0</td>\n",
       "      <td>0</td>\n",
       "      <td>0</td>\n",
       "      <td>0</td>\n",
       "      <td>0</td>\n",
       "      <td>0</td>\n",
       "      <td>...</td>\n",
       "      <td>1</td>\n",
       "      <td>0</td>\n",
       "      <td>1</td>\n",
       "      <td>0</td>\n",
       "      <td>0</td>\n",
       "      <td>1</td>\n",
       "      <td>0</td>\n",
       "      <td>0</td>\n",
       "      <td>0</td>\n",
       "      <td>0</td>\n",
       "    </tr>\n",
       "    <tr>\n",
       "      <th>2</th>\n",
       "      <td>0</td>\n",
       "      <td>0</td>\n",
       "      <td>1</td>\n",
       "      <td>0</td>\n",
       "      <td>0</td>\n",
       "      <td>0</td>\n",
       "      <td>0</td>\n",
       "      <td>0</td>\n",
       "      <td>0</td>\n",
       "      <td>0</td>\n",
       "      <td>...</td>\n",
       "      <td>1</td>\n",
       "      <td>0</td>\n",
       "      <td>0</td>\n",
       "      <td>0</td>\n",
       "      <td>1</td>\n",
       "      <td>0</td>\n",
       "      <td>0</td>\n",
       "      <td>0</td>\n",
       "      <td>0</td>\n",
       "      <td>1</td>\n",
       "    </tr>\n",
       "  </tbody>\n",
       "</table>\n",
       "<p>3 rows × 34 columns</p>\n",
       "</div>"
      ],
      "text/plain": [
       "   target  area_ingreso_anesthesia  area_ingreso_gynecology  \\\n",
       "0       0                        0                        1   \n",
       "1       1                        0                        1   \n",
       "2       0                        0                        1   \n",
       "\n",
       "   area_ingreso_radiotherapy  area_ingreso_surgery  doctor_Dr John  \\\n",
       "0                          0                     0               0   \n",
       "1                          0                     0               0   \n",
       "2                          0                     0               0   \n",
       "\n",
       "   doctor_Dr Mark  doctor_Dr Nathan  doctor_Dr Olivia  doctor_Dr Sam  ...  \\\n",
       "0               0                 0                 0              0  ...   \n",
       "1               0                 0                 0              0  ...   \n",
       "2               0                 0                 0              0  ...   \n",
       "\n",
       "   tipo_ingreso_Trauma  tipo_ingreso_Urgent  gravedad_Minor  \\\n",
       "0                    1                    0               0   \n",
       "1                    1                    0               1   \n",
       "2                    1                    0               0   \n",
       "\n",
       "   gravedad_Moderate  condicion_salud_Diabetes  condicion_salud_Heart disease  \\\n",
       "0                  0                         1                              0   \n",
       "1                  0                         0                              1   \n",
       "2                  0                         1                              0   \n",
       "\n",
       "   condicion_salud_High Blood Pressure  condicion_salud_None  \\\n",
       "0                                    0                     0   \n",
       "1                                    0                     0   \n",
       "2                                    0                     0   \n",
       "\n",
       "   condicion_salud_Other  seguro_medico_Yes  \n",
       "0                      0                  1  \n",
       "1                      0                  0  \n",
       "2                      0                  1  \n",
       "\n",
       "[3 rows x 34 columns]"
      ]
     },
     "execution_count": 69,
     "metadata": {},
     "output_type": "execute_result"
    }
   ],
   "source": [
    "df_train1.head(3)"
   ]
  },
  {
   "attachments": {},
   "cell_type": "markdown",
   "metadata": {},
   "source": [
    "Importacion de librerías"
   ]
  },
  {
   "cell_type": "code",
   "execution_count": 70,
   "metadata": {},
   "outputs": [],
   "source": [
    "import seaborn as sn\n",
    "from sklearn import tree\n",
    "from sklearn.impute import KNNImputer\n",
    "from sklearn.linear_model import LogisticRegression\n",
    "from sklearn.neighbors import KNeighborsClassifier\n",
    "from sklearn.svm import SVC\n",
    "\n",
    "from sklearn.preprocessing import OrdinalEncoder, LabelEncoder, StandardScaler \n",
    "from sklearn.model_selection import train_test_split, GridSearchCV, cross_val_score, KFold\n",
    "from sklearn.ensemble import RandomForestClassifier, AdaBoostClassifier, VotingClassifier, StackingClassifier\n",
    "from sklearn.metrics import *\n",
    "from sklearn.preprocessing import StandardScaler\n",
    "from xgboost import XGBClassifier"
   ]
  },
  {
   "cell_type": "code",
   "execution_count": 71,
   "metadata": {},
   "outputs": [],
   "source": [
    "x1 = df_train1.drop(['target'] ,axis = 1)\n",
    "y1 = df_train1['target']"
   ]
  },
  {
   "cell_type": "code",
   "execution_count": 72,
   "metadata": {},
   "outputs": [
    {
     "data": {
      "text/html": [
       "<style>#sk-container-id-2 {color: black;background-color: white;}#sk-container-id-2 pre{padding: 0;}#sk-container-id-2 div.sk-toggleable {background-color: white;}#sk-container-id-2 label.sk-toggleable__label {cursor: pointer;display: block;width: 100%;margin-bottom: 0;padding: 0.3em;box-sizing: border-box;text-align: center;}#sk-container-id-2 label.sk-toggleable__label-arrow:before {content: \"▸\";float: left;margin-right: 0.25em;color: #696969;}#sk-container-id-2 label.sk-toggleable__label-arrow:hover:before {color: black;}#sk-container-id-2 div.sk-estimator:hover label.sk-toggleable__label-arrow:before {color: black;}#sk-container-id-2 div.sk-toggleable__content {max-height: 0;max-width: 0;overflow: hidden;text-align: left;background-color: #f0f8ff;}#sk-container-id-2 div.sk-toggleable__content pre {margin: 0.2em;color: black;border-radius: 0.25em;background-color: #f0f8ff;}#sk-container-id-2 input.sk-toggleable__control:checked~div.sk-toggleable__content {max-height: 200px;max-width: 100%;overflow: auto;}#sk-container-id-2 input.sk-toggleable__control:checked~label.sk-toggleable__label-arrow:before {content: \"▾\";}#sk-container-id-2 div.sk-estimator input.sk-toggleable__control:checked~label.sk-toggleable__label {background-color: #d4ebff;}#sk-container-id-2 div.sk-label input.sk-toggleable__control:checked~label.sk-toggleable__label {background-color: #d4ebff;}#sk-container-id-2 input.sk-hidden--visually {border: 0;clip: rect(1px 1px 1px 1px);clip: rect(1px, 1px, 1px, 1px);height: 1px;margin: -1px;overflow: hidden;padding: 0;position: absolute;width: 1px;}#sk-container-id-2 div.sk-estimator {font-family: monospace;background-color: #f0f8ff;border: 1px dotted black;border-radius: 0.25em;box-sizing: border-box;margin-bottom: 0.5em;}#sk-container-id-2 div.sk-estimator:hover {background-color: #d4ebff;}#sk-container-id-2 div.sk-parallel-item::after {content: \"\";width: 100%;border-bottom: 1px solid gray;flex-grow: 1;}#sk-container-id-2 div.sk-label:hover label.sk-toggleable__label {background-color: #d4ebff;}#sk-container-id-2 div.sk-serial::before {content: \"\";position: absolute;border-left: 1px solid gray;box-sizing: border-box;top: 0;bottom: 0;left: 50%;z-index: 0;}#sk-container-id-2 div.sk-serial {display: flex;flex-direction: column;align-items: center;background-color: white;padding-right: 0.2em;padding-left: 0.2em;position: relative;}#sk-container-id-2 div.sk-item {position: relative;z-index: 1;}#sk-container-id-2 div.sk-parallel {display: flex;align-items: stretch;justify-content: center;background-color: white;position: relative;}#sk-container-id-2 div.sk-item::before, #sk-container-id-2 div.sk-parallel-item::before {content: \"\";position: absolute;border-left: 1px solid gray;box-sizing: border-box;top: 0;bottom: 0;left: 50%;z-index: -1;}#sk-container-id-2 div.sk-parallel-item {display: flex;flex-direction: column;z-index: 1;position: relative;background-color: white;}#sk-container-id-2 div.sk-parallel-item:first-child::after {align-self: flex-end;width: 50%;}#sk-container-id-2 div.sk-parallel-item:last-child::after {align-self: flex-start;width: 50%;}#sk-container-id-2 div.sk-parallel-item:only-child::after {width: 0;}#sk-container-id-2 div.sk-dashed-wrapped {border: 1px dashed gray;margin: 0 0.4em 0.5em 0.4em;box-sizing: border-box;padding-bottom: 0.4em;background-color: white;}#sk-container-id-2 div.sk-label label {font-family: monospace;font-weight: bold;display: inline-block;line-height: 1.2em;}#sk-container-id-2 div.sk-label-container {text-align: center;}#sk-container-id-2 div.sk-container {/* jupyter's `normalize.less` sets `[hidden] { display: none; }` but bootstrap.min.css set `[hidden] { display: none !important; }` so we also need the `!important` here to be able to override the default hidden behavior on the sphinx rendered scikit-learn.org. See: https://github.com/scikit-learn/scikit-learn/issues/21755 */display: inline-block !important;position: relative;}#sk-container-id-2 div.sk-text-repr-fallback {display: none;}</style><div id=\"sk-container-id-2\" class=\"sk-top-container\"><div class=\"sk-text-repr-fallback\"><pre>RandomForestClassifier(random_state=42)</pre><b>In a Jupyter environment, please rerun this cell to show the HTML representation or trust the notebook. <br />On GitHub, the HTML representation is unable to render, please try loading this page with nbviewer.org.</b></div><div class=\"sk-container\" hidden><div class=\"sk-item\"><div class=\"sk-estimator sk-toggleable\"><input class=\"sk-toggleable__control sk-hidden--visually\" id=\"sk-estimator-id-2\" type=\"checkbox\" checked><label for=\"sk-estimator-id-2\" class=\"sk-toggleable__label sk-toggleable__label-arrow\">RandomForestClassifier</label><div class=\"sk-toggleable__content\"><pre>RandomForestClassifier(random_state=42)</pre></div></div></div></div></div>"
      ],
      "text/plain": [
       "RandomForestClassifier(random_state=42)"
      ]
     },
     "execution_count": 72,
     "metadata": {},
     "output_type": "execute_result"
    }
   ],
   "source": [
    "X_train1, X_test1, y_train1, y_test1 = train_test_split(x1, y1, test_size=0.2, random_state=42)\n",
    "\n",
    "model =  RandomForestClassifier(random_state = 42)\n",
    "model.fit(X_train1, y_train1)"
   ]
  },
  {
   "cell_type": "code",
   "execution_count": 73,
   "metadata": {},
   "outputs": [
    {
     "data": {
      "text/plain": [
       "<AxesSubplot:xlabel='important', ylabel='features'>"
      ]
     },
     "execution_count": 73,
     "metadata": {},
     "output_type": "execute_result"
    },
    {
     "data": {
      "image/png": "[encoded data removed]",
      "text/plain": [
       "<Figure size 432x288 with 1 Axes>"
      ]
     },
     "metadata": {
      "needs_background": "light"
     },
     "output_type": "display_data"
    }
   ],
   "source": [
    "important_features = pd.DataFrame({'features': X_train1.columns, \n",
    "                                   'important': model.feature_importances_})\n",
    "important_features = important_features.sort_values('important', ascending = False)\n",
    "\n",
    "sn.barplot(x = 'important', y = 'features', data = important_features)"
   ]
  },
  {
   "cell_type": "code",
   "execution_count": 74,
   "metadata": {},
   "outputs": [],
   "source": [
    "X = x1\n",
    "y = y1\n",
    "X_train, X_test, y_train, y_test = train_test_split(X, y, test_size=0.2, random_state=42)"
   ]
  },
  {
   "attachments": {},
   "cell_type": "markdown",
   "metadata": {},
   "source": [
    "Escogemos el mejor parametro para el modelo"
   ]
  },
  {
   "cell_type": "code",
   "execution_count": 75,
   "metadata": {},
   "outputs": [],
   "source": [
    "def gridsearch(model , param):\n",
    "    gscv = GridSearchCV(estimator = model, \n",
    "                         param_grid = param, \n",
    "                         scoring='accuracy',\n",
    "                         cv = 4,\n",
    "                         n_jobs = -1)\n",
    "    gscv.fit(X_train , y_train)\n",
    "    result = gscv.best_params_\n",
    "    return result"
   ]
  },
  {
   "attachments": {},
   "cell_type": "markdown",
   "metadata": {},
   "source": [
    "Model AdaBoostClassifier"
   ]
  },
  {
   "cell_type": "code",
   "execution_count": 76,
   "metadata": {},
   "outputs": [],
   "source": [
    "gs_adb = AdaBoostClassifier(random_state = 0)\n",
    "adb_params ={\n",
    "    'n_estimators':[10, 50, 100, 250, 500, 500],\n",
    "    'learning_rate':[0.001, 0.01, 0.1, 1]}\n",
    "print(f'Best parameters for AdaBoost: ', gridsearch(gs_adb , adb_params))"
   ]
  },
  {
   "attachments": {},
   "cell_type": "markdown",
   "metadata": {},
   "source": [
    "Model RandomForestClassifier"
   ]
  },
  {
   "cell_type": "code",
   "execution_count": null,
   "metadata": {},
   "outputs": [
    {
     "name": "stderr",
     "output_type": "stream",
     "text": [
      "c:\\Users\\jotad\\AppData\\Local\\Programs\\Python\\Python310\\lib\\site-packages\\sklearn\\ensemble\\_forest.py:427: FutureWarning: `max_features='auto'` has been deprecated in 1.1 and will be removed in 1.3. To keep the past behaviour, explicitly set `max_features='sqrt'` or remove this parameter as it is also the default value for RandomForestClassifiers and ExtraTreesClassifiers.\n",
      "  warn(\n"
     ]
    },
    {
     "name": "stdout",
     "output_type": "stream",
     "text": [
      "Best parameters for Random Forest:  {'criterion': 'gini', 'max_depth': 7, 'max_features': 'auto', 'min_samples_split': 2, 'n_estimators': 200}\n"
     ]
    }
   ],
   "source": [
    "gs_rf = RandomForestClassifier(random_state = 42)\n",
    "rf_params = {\n",
    " 'n_estimators':[200,500],\n",
    " 'criterion': ('gini','entropy'),\n",
    " 'max_depth': [2, 3 ,4, 5, 6, 7, 8],\n",
    " 'min_samples_split': [2, 9],\n",
    " 'max_features': (\"auto\", \"sqrt\", \"log2\") }\n",
    "print('Best parameters for Random Forest: ', gridsearch(gs_rf , rf_params))"
   ]
  },
  {
   "cell_type": "code",
   "execution_count": null,
   "metadata": {},
   "outputs": [
    {
     "name": "stdout",
     "output_type": "stream",
     "text": [
      "Best parameters for XGBoost:  {'learning_rate': 0.1, 'n_estimators': 200}\n"
     ]
    }
   ],
   "source": [
    "xgb_gs =  XGBClassifier(random_state = 0, verbosity = 0)\n",
    "xgb_params =  {'n_estimators':[200,300],\n",
    "              'learning_rate':[0.1,0.2]} \n",
    "print(f'Best parameters for XGBoost: ', gridsearch(xgb_gs , xgb_params))"
   ]
  },
  {
   "cell_type": "code",
   "execution_count": null,
   "metadata": {},
   "outputs": [],
   "source": [
    "lr  = LogisticRegression(random_state=0, penalty = 'l2')\n",
    "knn = KNeighborsClassifier(n_neighbors= 11)\n",
    "rf  = RandomForestClassifier(max_depth=7, random_state=42 , criterion= 'gini' , max_features='auto' , min_samples_split= 2 , n_estimators= 200)\n",
    "adb  = AdaBoostClassifier(n_estimators=10, learning_rate = 1, random_state=0)\n",
    "xgb = XGBClassifier(random_state= 0 , learning_rate= 0.1 , n_estimators= 200)"
   ]
  },
  {
   "attachments": {},
   "cell_type": "markdown",
   "metadata": {},
   "source": [
    "Metricas del modelo"
   ]
  },
  {
   "cell_type": "code",
   "execution_count": null,
   "metadata": {},
   "outputs": [],
   "source": [
    "def creport(model):\n",
    "    ypred = model.predict(X_test)\n",
    "    return classification_report(y_test, ypred)"
   ]
  },
  {
   "cell_type": "code",
   "execution_count": null,
   "metadata": {},
   "outputs": [],
   "source": [
    "def accuracy(y_test , ypred):\n",
    "    return accuracy_score(y_test , ypred)"
   ]
  },
  {
   "cell_type": "code",
   "execution_count": null,
   "metadata": {},
   "outputs": [],
   "source": [
    "def f1(y_test , ypred):\n",
    "    return f1_score(y_test, ypred, average='macro')"
   ]
  },
  {
   "cell_type": "code",
   "execution_count": null,
   "metadata": {},
   "outputs": [
    {
     "name": "stderr",
     "output_type": "stream",
     "text": [
      "c:\\Users\\jotad\\AppData\\Local\\Programs\\Python\\Python310\\lib\\site-packages\\sklearn\\ensemble\\_forest.py:427: FutureWarning: `max_features='auto'` has been deprecated in 1.1 and will be removed in 1.3. To keep the past behaviour, explicitly set `max_features='sqrt'` or remove this parameter as it is also the default value for RandomForestClassifiers and ExtraTreesClassifiers.\n",
      "  warn(\n"
     ]
    },
    {
     "name": "stdout",
     "output_type": "stream",
     "text": [
      "              precision    recall  f1-score   support\n",
      "\n",
      "           0       1.00      0.16      0.28     31011\n",
      "           1       0.66      1.00      0.80     50989\n",
      "\n",
      "    accuracy                           0.68     82000\n",
      "   macro avg       0.83      0.58      0.54     82000\n",
      "weighted avg       0.79      0.68      0.60     82000\n",
      "\n"
     ]
    }
   ],
   "source": [
    "random_forest = rf\n",
    "random_forest.fit(X_train,y_train)\n",
    "print(creport(random_forest))"
   ]
  },
  {
   "cell_type": "code",
   "execution_count": null,
   "metadata": {},
   "outputs": [
    {
     "name": "stdout",
     "output_type": "stream",
     "text": [
      "              precision    recall  f1-score   support\n",
      "\n",
      "           0       0.57      0.48      0.52     31011\n",
      "           1       0.71      0.78      0.75     50989\n",
      "\n",
      "    accuracy                           0.67     82000\n",
      "   macro avg       0.64      0.63      0.64     82000\n",
      "weighted avg       0.66      0.67      0.66     82000\n",
      "\n"
     ]
    }
   ],
   "source": [
    "KNN = knn\n",
    "KNN.fit(X_train,y_train)\n",
    "print(creport(KNN))"
   ]
  },
  {
   "cell_type": "code",
   "execution_count": null,
   "metadata": {},
   "outputs": [
    {
     "name": "stdout",
     "output_type": "stream",
     "text": [
      "              precision    recall  f1-score   support\n",
      "\n",
      "           0       0.55      0.40      0.46     31011\n",
      "           1       0.69      0.80      0.74     50989\n",
      "\n",
      "    accuracy                           0.65     82000\n",
      "   macro avg       0.62      0.60      0.60     82000\n",
      "weighted avg       0.63      0.65      0.63     82000\n",
      "\n"
     ]
    },
    {
     "name": "stderr",
     "output_type": "stream",
     "text": [
      "c:\\Users\\jotad\\AppData\\Local\\Programs\\Python\\Python310\\lib\\site-packages\\sklearn\\linear_model\\_logistic.py:444: ConvergenceWarning: lbfgs failed to converge (status=1):\n",
      "STOP: TOTAL NO. of ITERATIONS REACHED LIMIT.\n",
      "\n",
      "Increase the number of iterations (max_iter) or scale the data as shown in:\n",
      "    https://scikit-learn.org/stable/modules/preprocessing.html\n",
      "Please also refer to the documentation for alternative solver options:\n",
      "    https://scikit-learn.org/stable/modules/linear_model.html#logistic-regression\n",
      "  n_iter_i = _check_optimize_result(\n"
     ]
    }
   ],
   "source": [
    "logistic_regression = lr\n",
    "logistic_regression.fit(X_train,y_train)\n",
    "print(creport(logistic_regression))"
   ]
  },
  {
   "cell_type": "code",
   "execution_count": null,
   "metadata": {},
   "outputs": [
    {
     "name": "stdout",
     "output_type": "stream",
     "text": [
      "              precision    recall  f1-score   support\n",
      "\n",
      "           0       0.78      0.24      0.37     31011\n",
      "           1       0.67      0.96      0.79     50989\n",
      "\n",
      "    accuracy                           0.69     82000\n",
      "   macro avg       0.73      0.60      0.58     82000\n",
      "weighted avg       0.71      0.69      0.63     82000\n",
      "\n"
     ]
    }
   ],
   "source": [
    "XGB = xgb\n",
    "XGB.fit(X_train , y_train)\n",
    "print(creport(XGB))"
   ]
  },
  {
   "cell_type": "code",
   "execution_count": null,
   "metadata": {},
   "outputs": [
    {
     "name": "stdout",
     "output_type": "stream",
     "text": [
      "              precision    recall  f1-score   support\n",
      "\n",
      "           0       0.72      0.17      0.28     31011\n",
      "           1       0.66      0.96      0.78     50989\n",
      "\n",
      "    accuracy                           0.66     82000\n",
      "   macro avg       0.69      0.56      0.53     82000\n",
      "weighted avg       0.68      0.66      0.59     82000\n",
      "\n"
     ]
    }
   ],
   "source": [
    "ADA = adb\n",
    "ADA.fit(X_train , y_train)\n",
    "print(creport(ADA))"
   ]
  },
  {
   "attachments": {},
   "cell_type": "markdown",
   "metadata": {},
   "source": [
    "Evaluacion de modelos de prediccion"
   ]
  },
  {
   "cell_type": "code",
   "execution_count": null,
   "metadata": {},
   "outputs": [],
   "source": [
    "y_train_pred_rf = random_forest.predict(X_train)\n",
    "y_train_pred_knn = KNN.predict(X_train)\n",
    "y_train_pred_lr = logistic_regression.predict(X_train)\n",
    "y_train_pred_ada = ADA.predict(X_train)"
   ]
  },
  {
   "cell_type": "code",
   "execution_count": null,
   "metadata": {},
   "outputs": [],
   "source": [
    "y_test_pred_rf = random_forest.predict(X_test)\n",
    "y_test_pred_knn = KNN.predict(X_test)\n",
    "y_test_pred_lr = logistic_regression.predict(X_test)\n",
    "y_test_pred_ada = ADA.predict(X_test)"
   ]
  },
  {
   "cell_type": "code",
   "execution_count": null,
   "metadata": {},
   "outputs": [
    {
     "name": "stdout",
     "output_type": "stream",
     "text": [
      "                 Model  Train Accuracy  Test Accuracy  f1-score\n",
      "0        Random Forest        0.684387       0.682756  0.537151\n",
      "1                  KNN        0.668265       0.668817  0.635168\n",
      "2  Logistic Regression        0.649659       0.647378  0.600463\n",
      "3             AdaBoost        0.661704       0.660585  0.526842\n"
     ]
    }
   ],
   "source": [
    "all_evaluate = pd.DataFrame({'Model':['Random Forest', 'KNN', 'Logistic Regression', 'AdaBoost'],\n",
    "    'Train Accuracy':[accuracy(y_train,y_train_pred_rf), accuracy(y_train,y_train_pred_knn), accuracy(y_train,y_train_pred_lr),\n",
    "                     accuracy(y_train,y_train_pred_ada)],\n",
    "    'Test Accuracy':[accuracy(y_test,y_test_pred_rf), accuracy(y_test,y_test_pred_knn), accuracy(y_test,y_test_pred_lr),\n",
    "                     accuracy(y_test,y_test_pred_ada)],\n",
    "                                      \n",
    "    'f1-score':[f1(y_test,y_test_pred_rf), f1(y_test,y_test_pred_knn), f1(y_test,y_test_pred_lr),\n",
    "                     f1(y_test,y_test_pred_ada)]}\n",
    "                     )\n",
    "\n",
    "print(all_evaluate)"
   ]
  },
  {
   "cell_type": "code",
   "execution_count": null,
   "metadata": {},
   "outputs": [],
   "source": [
    "y_pred = rf.predict(df_test1)\n",
    "file = pd.DataFrame(y_pred, columns = ['pred'])\n",
    "file.to_csv('usuario614.csv', index = False)"
   ]
  },
  {
   "cell_type": "code",
   "execution_count": null,
   "metadata": {},
   "outputs": [
    {
     "data": {
      "text/plain": [
       "1    255416\n",
       "0    154584\n",
       "Name: target, dtype: int64"
      ]
     },
     "execution_count": 39,
     "metadata": {},
     "output_type": "execute_result"
    }
   ],
   "source": [
    "df_train1['target'].value_counts()"
   ]
  },
  {
   "cell_type": "code",
   "execution_count": null,
   "metadata": {},
   "outputs": [],
   "source": [
    "jp= pd.read_csv(r'usuario614.csv')"
   ]
  },
  {
   "cell_type": "code",
   "execution_count": null,
   "metadata": {},
   "outputs": [
    {
     "data": {
      "text/plain": [
       "pred\n",
       "1       84831\n",
       "0        5169\n",
       "dtype: int64"
      ]
     },
     "execution_count": 41,
     "metadata": {},
     "output_type": "execute_result"
    }
   ],
   "source": [
    "jp.value_counts()"
   ]
  },
  {
   "cell_type": "code",
   "execution_count": null,
   "metadata": {},
   "outputs": [],
   "source": []
  }
 ],
 "metadata": {
  "kernelspec": {
   "display_name": "Python 3",
   "language": "python",
   "name": "python3"
  },
  "language_info": {
   "codemirror_mode": {
    "name": "ipython",
    "version": 3
   },
   "file_extension": ".py",
   "mimetype": "text/x-python",
   "name": "python",
   "nbconvert_exporter": "python",
   "pygments_lexer": "ipython3",
   "version": "3.10.7"
  },
  "orig_nbformat": 4,
  "vscode": {
   "interpreter": {
    "hash": "51b8fe33dfbb7a2f4526457b0d6780fdbfa116b968569eb8b5eb510322c953a0"
   }
  }
 },
 "nbformat": 4,
 "nbformat_minor": 2
}
